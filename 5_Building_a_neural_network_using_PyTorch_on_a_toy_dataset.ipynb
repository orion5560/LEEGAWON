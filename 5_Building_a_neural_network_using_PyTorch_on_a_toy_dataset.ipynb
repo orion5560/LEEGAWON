{
  "nbformat": 4,
  "nbformat_minor": 0,
  "metadata": {
    "colab": {
      "provenance": [],
      "include_colab_link": true
    },
    "kernelspec": {
      "display_name": "Python 3",
      "language": "python",
      "name": "python3"
    },
    "language_info": {
      "codemirror_mode": {
        "name": "ipython",
        "version": 3
      },
      "file_extension": ".py",
      "mimetype": "text/x-python",
      "name": "python",
      "nbconvert_exporter": "python",
      "pygments_lexer": "ipython3",
      "version": "3.7.6"
    },
    "accelerator": "GPU"
  },
  "cells": [
    {
      "cell_type": "markdown",
      "metadata": {
        "id": "view-in-github",
        "colab_type": "text"
      },
      "source": [
        "<a href=\"https://colab.research.google.com/github/wonmadeit/LEEGAWON/blob/main/5_Building_a_neural_network_using_PyTorch_on_a_toy_dataset.ipynb\" target=\"_parent\"><img src=\"https://colab.research.google.com/assets/colab-badge.svg\" alt=\"Open In Colab\"/></a>"
      ]
    },
    {
      "cell_type": "markdown",
      "metadata": {
        "id": "LAIUgKiApAX7"
      },
      "source": [
        "- Toy dataset으로 신경망 모델 작성 (PyTorch 활용)"
      ]
    },
    {
      "cell_type": "code",
      "metadata": {
        "ExecuteTime": {
          "end_time": "2020-09-25T19:37:27.437450Z",
          "start_time": "2020-09-25T19:37:27.143217Z"
        },
        "id": "e1gtGb85daHv"
      },
      "source": [
        "import torch\n",
        "x = [[1,2],[3,4],[5,6],[7,8]]\n",
        "y = [[3],[7],[11],[15]]"
      ],
      "execution_count": 5,
      "outputs": []
    },
    {
      "cell_type": "code",
      "metadata": {
        "ExecuteTime": {
          "end_time": "2020-09-25T19:37:27.440914Z",
          "start_time": "2020-09-25T19:37:27.438557Z"
        },
        "id": "ZaYGlxtQdbd1"
      },
      "source": [
        "X = torch.tensor(x).float()\n",
        "Y = torch.tensor(y).float()"
      ],
      "execution_count": 6,
      "outputs": []
    },
    {
      "cell_type": "code",
      "metadata": {
        "ExecuteTime": {
          "end_time": "2020-09-25T19:37:29.527549Z",
          "start_time": "2020-09-25T19:37:27.442428Z"
        },
        "id": "q5DT95H_dcwi"
      },
      "source": [
        "device = 'cuda' if torch.cuda.is_available() else 'cpu'\n",
        "X = X.to(device)\n",
        "Y = Y.to(device)"
      ],
      "execution_count": 7,
      "outputs": []
    },
    {
      "cell_type": "code",
      "metadata": {
        "ExecuteTime": {
          "end_time": "2020-09-25T19:37:29.530750Z",
          "start_time": "2020-09-25T19:37:29.528696Z"
        },
        "id": "rHq7VwgDdeJ-"
      },
      "source": [
        "import torch.nn as nn"
      ],
      "execution_count": 8,
      "outputs": []
    },
    {
      "cell_type": "markdown",
      "metadata": {
        "id": "1y3f31SfpnAq"
      },
      "source": [
        "- `nn.Module`을 상속받아 `__init__` 함수를 override하여 layer 정의\n",
        "\n",
        "- `nn.Linear(2, 8)`의 의미\n",
        "  - 이전 레이어의 노드 개수 : 2개, 다음 레이어의 노드 개수 : 8개, bias 존재하는 fully-connected layer (존재하지 않는 레이어 만들려면 `argument bias=False` 추가)\n",
        "\n",
        "- PyTorch는 forward pass를 위해 `nn.Module`의 `forward` 함수를 override (재정의)하여 사용\n",
        "\n",
        "\n",
        "- (직접 해보기) ReLU 대신에 다른 활성 함수 사용해볼 것"
      ]
    },
    {
      "cell_type": "code",
      "metadata": {
        "ExecuteTime": {
          "end_time": "2020-09-25T19:37:29.535567Z",
          "start_time": "2020-09-25T19:37:29.531890Z"
        },
        "id": "clpig_05dfYK"
      },
      "source": [
        "class MyNeuralNet(nn.Module):\n",
        "    def __init__(self):\n",
        "        super().__init__()\n",
        "        self.input_to_hidden_layer = nn.Linear(2,8)         #이전레이어 노드 수 2개, 다음레이어 노드수 8개 연결 connected by fully connect(전부다연결)\n",
        "        self.hidden_layer_activation = nn.LeakyReLU()       #\n",
        "        self.hidden_to_output_layer = nn.Linear(8,1)        #\n",
        "    def forward(self, x):                                   #tensor를 입력값으로 받아 어떤경로로 흘러가게 할지 지정\n",
        "        x = self.input_to_hidden_layer(x)\n",
        "        x = self.hidden_layer_activation(x)\n",
        "        x = self.hidden_to_output_layer(x)\n",
        "        return x"
      ],
      "execution_count": 9,
      "outputs": []
    },
    {
      "cell_type": "markdown",
      "metadata": {
        "id": "Q_vFj3pPsulx"
      },
      "source": [
        "- 정의한 신경망 클래스의 instance를 생성할 때 weight 같은 parameter가 random하게 초기화 됨\n",
        "  - 항상 똑같이 초기화 되기를 원한다면, `torch.manual_seed(0)` 함수 사용"
      ]
    },
    {
      "cell_type": "code",
      "metadata": {
        "ExecuteTime": {
          "end_time": "2020-09-25T19:37:29.540168Z",
          "start_time": "2020-09-25T19:37:29.536723Z"
        },
        "id": "McmLsQstdnxr"
      },
      "source": [
        "mynet = MyNeuralNet().to(device)      #to함수 : cuda 드라이버 gpu로 업로드, mynet이 참조, 순전파 준비끝"
      ],
      "execution_count": 10,
      "outputs": []
    },
    {
      "cell_type": "markdown",
      "source": [
        "# 새 섹션"
      ],
      "metadata": {
        "id": "kogLBX8pfhez"
      }
    },
    {
      "cell_type": "code",
      "metadata": {
        "id": "ooiItaDPsYWy",
        "colab": {
          "base_uri": "https://localhost:8080/"
        },
        "outputId": "d9fa0e29-89fa-4626-a946-a50b28dc18d0"
      },
      "source": [
        "mynet.input_to_hidden_layer.weight # input_to_hidden_layer의 가중치 확인\n",
        "for par in mynet.parameters(): # 모든 layer의 parameter 확인\n",
        "    print(par)"
      ],
      "execution_count": null,
      "outputs": [
        {
          "output_type": "stream",
          "name": "stdout",
          "text": [
            "Parameter containing:\n",
            "tensor([[ 0.3862, -0.0601],\n",
            "        [ 0.3617,  0.6314],\n",
            "        [-0.0499,  0.5031],\n",
            "        [ 0.5754,  0.5826],\n",
            "        [ 0.1191, -0.6060],\n",
            "        [-0.4341, -0.3984],\n",
            "        [ 0.6352, -0.0780],\n",
            "        [-0.4118, -0.1309]], device='cuda:0', requires_grad=True)\n",
            "Parameter containing:\n",
            "tensor([-0.6940, -0.5013, -0.3725,  0.6242, -0.4585,  0.6899,  0.6854,  0.6859],\n",
            "       device='cuda:0', requires_grad=True)\n",
            "Parameter containing:\n",
            "tensor([[-0.2454, -0.1549,  0.1914,  0.2467, -0.2275,  0.1427, -0.3412,  0.3139]],\n",
            "       device='cuda:0', requires_grad=True)\n",
            "Parameter containing:\n",
            "tensor([-0.3464], device='cuda:0', requires_grad=True)\n"
          ]
        }
      ]
    },
    {
      "cell_type": "markdown",
      "metadata": {
        "id": "R3vTVE55rTnq"
      },
      "source": [
        "- 다른 손실함수도 사용해 볼 것\n",
        "  - CrossEntropyLoss\n",
        "  - BCELoss 등"
      ]
    },
    {
      "cell_type": "code",
      "metadata": {
        "ExecuteTime": {
          "end_time": "2020-09-25T19:37:29.544857Z",
          "start_time": "2020-09-25T19:37:29.541272Z"
        },
        "id": "8cyG-B-AdoBB"
      },
      "source": [
        "loss_func = nn.MSELoss()\n",
        "# loss_func = nn.BCSLoss()"
      ],
      "execution_count": null,
      "outputs": []
    },
    {
      "cell_type": "code",
      "metadata": {
        "ExecuteTime": {
          "end_time": "2020-09-25T19:37:29.554504Z",
          "start_time": "2020-09-25T19:37:29.546221Z"
        },
        "id": "QRTf8vdKdqmP",
        "colab": {
          "base_uri": "https://localhost:8080/"
        },
        "outputId": "ee47d948-2dc5-447c-a6fe-eaffd061072a"
      },
      "source": [
        "_Y = mynet(X)\n",
        "loss_value = loss_func(_Y,Y)\n",
        "print(loss_value) # 이 값은 random하게 생성된 parameter 초기값 때문에 아래 결과와 다를 수 있음"
      ],
      "execution_count": null,
      "outputs": [
        {
          "output_type": "stream",
          "name": "stdout",
          "text": [
            "tensor(107.2645, device='cuda:0', grad_fn=<MseLossBackward0>)\n"
          ]
        }
      ]
    },
    {
      "cell_type": "markdown",
      "metadata": {
        "id": "pdayIZ-xuoUC"
      },
      "source": [
        "- 다른 optimizer도 사용해 볼 것\n",
        "  - Adam\n",
        "  - RMSProp 등"
      ]
    },
    {
      "cell_type": "code",
      "metadata": {
        "ExecuteTime": {
          "end_time": "2020-09-25T19:37:29.558932Z",
          "start_time": "2020-09-25T19:37:29.555392Z"
        },
        "id": "dTOdsvFydsQK"
      },
      "source": [
        "from torch.optim import SGD\n",
        "opt = SGD(mynet.parameters(), lr = 0.001)"
      ],
      "execution_count": null,
      "outputs": []
    },
    {
      "cell_type": "markdown",
      "source": [
        "- `detach()` : Graph에서 분리한 새로운 Tensor를 Return\n",
        "  - PyTorch는 Tensor에서 이루어진 모든 연산을 추적해서 기록해 놓음(Graph)\n",
        "    - 이 연산 기록으로부터 미분이 계산되고, 역전파가 이루어짐\n",
        "    - `detach()`는 이 연산 기록으로부터 분리한 Tensor를 반환하는 Method\n",
        "\n",
        "- `cpu()` : GPU메모리에 올려져 있는 Tensor를 CPU 메모리로 복사\n",
        "\n",
        "- `numpy()` : Tensor를 Numpy로 변환하여 반환\n",
        "  - 저장공간을 공유하기 때문에 하나를 변경하면 다른 하나를 변경함\n",
        "  - CPU메모리에 올려져 있는 Tensor만 `numpy()` method를 사용할 수 있음"
      ],
      "metadata": {
        "id": "E7AI_RwLzWoe"
      }
    },
    {
      "cell_type": "code",
      "metadata": {
        "ExecuteTime": {
          "end_time": "2020-09-25T19:37:29.588488Z",
          "start_time": "2020-09-25T19:37:29.560089Z"
        },
        "id": "xyHCZwfYduGO"
      },
      "source": [
        "loss_history = []\n",
        "for _ in range(50):\n",
        "    opt.zero_grad() # gradient를 0으로 초기화 - 매 epoch 시작 시 혹은 매 epoch 끝날 때\n",
        "    loss_value = loss_func(mynet(X),Y) # 추정값과 정답 label 사이의 loss 계산\n",
        "    loss_value.backward() # back-propagation : 역전파 단계, 현 parameter들의 loss에 대한 변화도(미분값) 계산하여 누적\n",
        "    opt.step() # parameter update\n",
        "    loss_history.append(loss_value.cpu().detach().numpy())"
      ],
      "execution_count": null,
      "outputs": []
    },
    {
      "cell_type": "code",
      "metadata": {
        "ExecuteTime": {
          "end_time": "2020-09-25T19:37:29.838987Z",
          "start_time": "2020-09-25T19:37:29.589467Z"
        },
        "id": "DiO6I53udwvY",
        "colab": {
          "base_uri": "https://localhost:8080/",
          "height": 313
        },
        "outputId": "8d252942-af83-4cba-f87d-7206af133adf"
      },
      "source": [
        "import matplotlib.pyplot as plt\n",
        "%matplotlib inline\n",
        "plt.plot(loss_history)\n",
        "plt.title('Loss variation over increasing epochs')\n",
        "plt.xlabel('epochs')\n",
        "plt.ylabel('loss value')"
      ],
      "execution_count": null,
      "outputs": [
        {
          "output_type": "execute_result",
          "data": {
            "text/plain": [
              "Text(0, 0.5, 'loss value')"
            ]
          },
          "metadata": {},
          "execution_count": 12
        },
        {
          "output_type": "display_data",
          "data": {
            "text/plain": [
              "<Figure size 432x288 with 1 Axes>"
            ],
            "image/png": "[encoded data removed]"
          },
          "metadata": {
            "needs_background": "light"
          }
        }
      ]
    },
    {
      "cell_type": "code",
      "metadata": {
        "id": "jmfHZmKXdyND"
      },
      "source": [],
      "execution_count": null,
      "outputs": []
    }
  ]
}