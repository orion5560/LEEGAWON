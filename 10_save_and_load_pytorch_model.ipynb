{
  "nbformat": 4,
  "nbformat_minor": 0,
  "metadata": {
    "colab": {
      "provenance": [],
      "include_colab_link": true
    },
    "kernelspec": {
      "display_name": "Python 3",
      "language": "python",
      "name": "python3"
    },
    "language_info": {
      "codemirror_mode": {
        "name": "ipython",
        "version": 3
      },
      "file_extension": ".py",
      "mimetype": "text/x-python",
      "name": "python",
      "nbconvert_exporter": "python",
      "pygments_lexer": "ipython3",
      "version": "3.7.6"
    },
    "accelerator": "GPU"
  },
  "cells": [
    {
      "cell_type": "markdown",
      "metadata": {
        "id": "view-in-github",
        "colab_type": "text"
      },
      "source": [
        "<a href=\"https://colab.research.google.com/github/wonmadeit/LEEGAWON/blob/main/10_save_and_load_pytorch_model.ipynb\" target=\"_parent\"><img src=\"https://colab.research.google.com/assets/colab-badge.svg\" alt=\"Open In Colab\"/></a>"
      ]
    },
    {
      "cell_type": "markdown",
      "metadata": {
        "id": "LsV5hn706oUK"
      },
      "source": [
        "- 학습한 모형을 저장하거나 불러오는 방법\n",
        "  - 저장하고 불러오는 요소들\n",
        "    - 각 parameter(tensor)에 대한 unique key\n",
        "    - 각 tensor의 값들"
      ]
    },
    {
      "cell_type": "code",
      "metadata": {
        "ExecuteTime": {
          "end_time": "2020-09-25T19:46:43.317635Z",
          "start_time": "2020-09-25T19:46:43.315050Z"
        },
        "id": "D5_lUQ_JzxNQ"
      },
      "source": [
        "x = [[1,2],[3,4],[5,6],[7,8]]\n",
        "y = [[3],[7],[11],[15]]"
      ],
      "execution_count": 3,
      "outputs": []
    },
    {
      "cell_type": "code",
      "metadata": {
        "ExecuteTime": {
          "end_time": "2020-09-25T19:46:43.632085Z",
          "start_time": "2020-09-25T19:46:43.319154Z"
        },
        "id": "TG0fNwONz6yn"
      },
      "source": [
        "import torch\n",
        "import torch.nn as nn\n",
        "import numpy as np\n",
        "from torch.utils.data import Dataset, DataLoader\n",
        "device = 'cuda' if torch.cuda.is_available() else 'cpu'"
      ],
      "execution_count": 4,
      "outputs": []
    },
    {
      "cell_type": "code",
      "metadata": {
        "ExecuteTime": {
          "end_time": "2020-09-25T19:46:43.636696Z",
          "start_time": "2020-09-25T19:46:43.633237Z"
        },
        "id": "f4-xTYoCz8U9"
      },
      "source": [
        "class MyDataset(Dataset):\n",
        "    def __init__(self, x, y):\n",
        "        self.x = torch.tensor(x).float().to(device)\n",
        "        self.y = torch.tensor(y).float().to(device)\n",
        "    def __getitem__(self, ix):\n",
        "        return self.x[ix], self.y[ix]\n",
        "    def __len__(self):\n",
        "        return len(self.x)"
      ],
      "execution_count": 5,
      "outputs": []
    },
    {
      "cell_type": "code",
      "metadata": {
        "ExecuteTime": {
          "end_time": "2020-09-25T19:46:45.210534Z",
          "start_time": "2020-09-25T19:46:43.638037Z"
        },
        "id": "WeBe83XQz9we"
      },
      "source": [
        "ds = MyDataset(x, y)\n",
        "dl = DataLoader(ds, batch_size=2, shuffle=True)"
      ],
      "execution_count": 6,
      "outputs": []
    },
    {
      "cell_type": "code",
      "metadata": {
        "ExecuteTime": {
          "end_time": "2020-09-25T19:46:45.214494Z",
          "start_time": "2020-09-25T19:46:45.211517Z"
        },
        "id": "Vcg57P86z_oF"
      },
      "source": [
        "model = nn.Sequential(\n",
        "    nn.Linear(2, 8),\n",
        "    nn.ReLU(),\n",
        "    nn.Linear(8, 1)\n",
        ").to(device)"
      ],
      "execution_count": 7,
      "outputs": []
    },
    {
      "cell_type": "code",
      "metadata": {
        "ExecuteTime": {
          "end_time": "2020-09-25T19:46:46.908328Z",
          "start_time": "2020-09-25T19:46:45.215657Z"
        },
        "id": "7FGa-UWK0BIX",
        "colab": {
          "base_uri": "https://localhost:8080/"
        },
        "outputId": "5ba39a8f-fb00-4b9c-fbd8-a40b38d46e1e"
      },
      "source": [
        "!pip install torch_summary\n",
        "from torchsummary import summary"
      ],
      "execution_count": 8,
      "outputs": [
        {
          "output_type": "stream",
          "name": "stdout",
          "text": [
            "Collecting torch_summary\n",
            "  Downloading torch_summary-1.4.5-py3-none-any.whl (16 kB)\n",
            "Installing collected packages: torch_summary\n",
            "Successfully installed torch_summary-1.4.5\n"
          ]
        }
      ]
    },
    {
      "cell_type": "code",
      "metadata": {
        "ExecuteTime": {
          "end_time": "2020-09-25T19:46:46.921020Z",
          "start_time": "2020-09-25T19:46:46.909862Z"
        },
        "id": "UVZlHyXh0Fyd",
        "colab": {
          "base_uri": "https://localhost:8080/"
        },
        "outputId": "ef10e404-ea39-4e9d-93f1-e41ef3775660"
      },
      "source": [
        "summary(model, torch.zeros(1,2));"
      ],
      "execution_count": 9,
      "outputs": [
        {
          "output_type": "stream",
          "name": "stdout",
          "text": [
            "==========================================================================================\n",
            "Layer (type:depth-idx)                   Output Shape              Param #\n",
            "==========================================================================================\n",
            "├─Linear: 1-1                            [-1, 8]                   24\n",
            "├─ReLU: 1-2                              [-1, 8]                   --\n",
            "├─Linear: 1-3                            [-1, 1]                   9\n",
            "==========================================================================================\n",
            "Total params: 33\n",
            "Trainable params: 33\n",
            "Non-trainable params: 0\n",
            "Total mult-adds (M): 0.00\n",
            "==========================================================================================\n",
            "Input size (MB): 0.00\n",
            "Forward/backward pass size (MB): 0.00\n",
            "Params size (MB): 0.00\n",
            "Estimated Total Size (MB): 0.00\n",
            "==========================================================================================\n"
          ]
        }
      ]
    },
    {
      "cell_type": "code",
      "metadata": {
        "ExecuteTime": {
          "end_time": "2020-09-25T19:46:46.997392Z",
          "start_time": "2020-09-25T19:46:46.922234Z"
        },
        "id": "NDHfUDbW0Lh_",
        "colab": {
          "base_uri": "https://localhost:8080/"
        },
        "outputId": "c562b4cf-f2c2-4cc6-f23a-e6aba56aeade"
      },
      "source": [
        "loss_func = nn.MSELoss()\n",
        "from torch.optim import SGD\n",
        "opt = SGD(model.parameters(), lr = 0.001)\n",
        "import time\n",
        "loss_history = []\n",
        "start = time.time()\n",
        "for _ in range(50):\n",
        "    for ix, iy in dl:\n",
        "        opt.zero_grad()\n",
        "        loss_value = loss_func(model(ix),iy)\n",
        "        loss_value.backward()\n",
        "        opt.step()\n",
        "        loss_history.append(loss_value)\n",
        "end = time.time()\n",
        "print(end - start)"
      ],
      "execution_count": 10,
      "outputs": [
        {
          "output_type": "stream",
          "name": "stdout",
          "text": [
            "0.4818112850189209\n"
          ]
        }
      ]
    },
    {
      "cell_type": "markdown",
      "metadata": {
        "ExecuteTime": {
          "end_time": "2020-09-25T19:45:14.978405Z",
          "start_time": "2020-09-25T19:45:14.976623Z"
        },
        "id": "JrHJXeCl2FHm"
      },
      "source": [
        "### Saving\n",
        "- `.state_dict()` : dictionary 구조 (`OrderedDict`)\n",
        "  - key : parameter 이름\n",
        "  - value : weight & bias 값\n",
        "\n",
        "`model.state_dict()` 를 통해 key와 value 값들을 확인해볼 것"
      ]
    },
    {
      "cell_type": "code",
      "metadata": {
        "ExecuteTime": {
          "end_time": "2020-09-25T19:46:47.132743Z",
          "start_time": "2020-09-25T19:46:46.998346Z"
        },
        "id": "FwNYJ83V2FHp",
        "colab": {
          "base_uri": "https://localhost:8080/"
        },
        "outputId": "8a267682-18e3-4225-c94f-0c5ef3ec86b2"
      },
      "source": [
        "save_path = 'mymodel.pth'\n",
        "torch.save(model.state_dict(), save_path)\n",
        "## GPU가 아닌 CPU tensor를 저장해서 나중에 GPU가 없는 machine에서도 바로 불러와서 사용할 수 있게 'cpu'로 모형을 옮겨 저장\n",
        "# torch.save(model.to('cpu').state_dict(), 'save_path')\n",
        "!du -hsc {save_path} # size of the model on disk"
      ],
      "execution_count": 11,
      "outputs": [
        {
          "output_type": "stream",
          "name": "stdout",
          "text": [
            "4.0K\tmymodel.pth\n",
            "4.0K\ttotal\n"
          ]
        }
      ]
    },
    {
      "cell_type": "code",
      "source": [
        " model.state_dict()"
      ],
      "metadata": {
        "id": "2b4xxqkr-j3h",
        "colab": {
          "base_uri": "https://localhost:8080/"
        },
        "outputId": "6af4232b-f91e-4483-f6b1-fc406fd08658"
      },
      "execution_count": 12,
      "outputs": [
        {
          "output_type": "execute_result",
          "data": {
            "text/plain": [
              "OrderedDict([('0.weight',\n",
              "              tensor([[ 0.7648,  0.1706],\n",
              "                      [-0.1390, -0.5008],\n",
              "                      [ 0.2607, -0.5519],\n",
              "                      [-0.2858,  0.1862],\n",
              "                      [ 0.6420,  0.8098],\n",
              "                      [-0.4696, -0.3025],\n",
              "                      [-0.0110, -0.4810],\n",
              "                      [-0.4226,  0.2460]], device='cuda:0')),\n",
              "             ('0.bias',\n",
              "              tensor([-0.1848,  0.4413,  0.4835,  0.0131, -0.2652, -0.2979,  0.1220,  0.1771],\n",
              "                     device='cuda:0')),\n",
              "             ('2.weight',\n",
              "              tensor([[ 0.6135, -0.0665,  0.1171, -0.2966,  1.0012, -0.2657, -0.0585, -0.2576]],\n",
              "                     device='cuda:0')),\n",
              "             ('2.bias', tensor([0.3287], device='cuda:0'))])"
            ]
          },
          "metadata": {},
          "execution_count": 12
        }
      ]
    },
    {
      "cell_type": "markdown",
      "metadata": {
        "id": "1ew37R8X2FHr"
      },
      "source": [
        "### Loading\n",
        "- 저장되어 있는 모형을 불러올 때는, 저장한 모형과 같은 모형이 정의되어 있어야 함\n",
        "  - 여기서는 위에 `model` 변수에 할당된 모형을 같이 사용\n",
        "  - `model`이 정의가 되어있지 않은 상황이라면 똑같이 `nn.Sequential(..)` 사용하여 정의\n",
        "- `torch.load()`로 state dict를 불러오고, `model.load_state_dict()`를 통해 정의한 `model`의 parameter에 덮어씌움\n",
        "  - 모든 key가 match되어야 함"
      ]
    },
    {
      "cell_type": "code",
      "metadata": {
        "ExecuteTime": {
          "end_time": "2020-09-25T19:46:47.153931Z",
          "start_time": "2020-09-25T19:46:47.138011Z"
        },
        "id": "93-_e2N62FHr",
        "colab": {
          "base_uri": "https://localhost:8080/"
        },
        "outputId": "3dd6201f-060f-4007-fa04-690383701a10"
      },
      "source": [
        "load_path = 'mymodel.pth'\n",
        "model.load_state_dict(torch.load(load_path))"
      ],
      "execution_count": 13,
      "outputs": [
        {
          "output_type": "execute_result",
          "data": {
            "text/plain": [
              "<All keys matched successfully>"
            ]
          },
          "metadata": {},
          "execution_count": 13
        }
      ]
    },
    {
      "cell_type": "markdown",
      "metadata": {
        "id": "Qiqv1PFH2FHu"
      },
      "source": [
        "### Predictions"
      ]
    },
    {
      "cell_type": "code",
      "metadata": {
        "ExecuteTime": {
          "end_time": "2020-09-25T19:46:47.165958Z",
          "start_time": "2020-09-25T19:46:47.158191Z"
        },
        "id": "-Y-j0JeW0WKz"
      },
      "source": [
        "val = [[8,9],[10,11],[1.5,2.5]]\n",
        "val = torch.tensor(val).float()"
      ],
      "execution_count": null,
      "outputs": []
    },
    {
      "cell_type": "code",
      "metadata": {
        "ExecuteTime": {
          "end_time": "2020-09-25T19:46:47.184080Z",
          "start_time": "2020-09-25T19:46:47.170476Z"
        },
        "id": "KdNMIy4u0Xkt",
        "colab": {
          "base_uri": "https://localhost:8080/"
        },
        "outputId": "6df67829-32e2-46e7-fb47-8ab5cf2b8b66"
      },
      "source": [
        "model(val.to(device))"
      ],
      "execution_count": null,
      "outputs": [
        {
          "output_type": "execute_result",
          "data": {
            "text/plain": [
              "tensor([[16.5711],\n",
              "        [20.2829],\n",
              "        [ 4.5079]], device='cuda:0', grad_fn=<AddmmBackward0>)"
            ]
          },
          "metadata": {},
          "execution_count": 13
        }
      ]
    },
    {
      "cell_type": "code",
      "metadata": {
        "ExecuteTime": {
          "end_time": "2020-09-25T19:46:47.193074Z",
          "start_time": "2020-09-25T19:46:47.186259Z"
        },
        "id": "FCagMOUM2FHz",
        "outputId": "1e7a34f9-465b-43d6-ea27-bb5db31c1d36",
        "colab": {
          "base_uri": "https://localhost:8080/"
        }
      },
      "source": [
        "val.sum(-1)"
      ],
      "execution_count": null,
      "outputs": [
        {
          "output_type": "execute_result",
          "data": {
            "text/plain": [
              "tensor([17., 21.,  4.])"
            ]
          },
          "metadata": {},
          "execution_count": 14
        }
      ]
    }
  ]
}