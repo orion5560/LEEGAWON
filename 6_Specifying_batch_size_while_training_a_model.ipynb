{
  "nbformat": 4,
  "nbformat_minor": 0,
  "metadata": {
    "colab": {
      "provenance": [],
      "gpuType": "T4",
      "include_colab_link": true
    },
    "kernelspec": {
      "display_name": "Python 3",
      "name": "python3"
    },
    "language_info": {
      "codemirror_mode": {
        "name": "ipython",
        "version": 3
      },
      "file_extension": ".py",
      "mimetype": "text/x-python",
      "name": "python",
      "nbconvert_exporter": "python",
      "pygments_lexer": "ipython3",
      "version": "3.7.6"
    },
    "accelerator": "GPU"
  },
  "cells": [
    {
      "cell_type": "markdown",
      "metadata": {
        "id": "view-in-github",
        "colab_type": "text"
      },
      "source": [
        "<a href=\"https://colab.research.google.com/github/wonmadeit/LEEGAWON/blob/main/6_Specifying_batch_size_while_training_a_model.ipynb\" target=\"_parent\"><img src=\"https://colab.research.google.com/assets/colab-badge.svg\" alt=\"Open In Colab\"/></a>"
      ]
    },
    {
      "cell_type": "markdown",
      "metadata": {
        "id": "ICf63Dt4wmpp"
      },
      "source": [
        "- Batch size : loss를 계산하고, weight를 1회 update(1epoch)할 때 사용할 데이터의 양\n",
        "  - 모델 & 학습 설계한 사람이 설정할 수 있는 hyperparameter 중 하나"
      ]
    },
    {
      "cell_type": "code",
      "metadata": {
        "ExecuteTime": {
          "end_time": "2020-09-25T19:38:09.313991Z",
          "start_time": "2020-09-25T19:38:09.019280Z"
        },
        "id": "qMRMqX5bxknN"
      },
      "source": [
        "from torch.utils.data import Dataset, DataLoader\n",
        "import torch\n",
        "import torch.nn as nn"
      ],
      "execution_count": 1,
      "outputs": []
    },
    {
      "cell_type": "code",
      "metadata": {
        "ExecuteTime": {
          "end_time": "2020-09-25T19:38:09.317494Z",
          "start_time": "2020-09-25T19:38:09.315108Z"
        },
        "id": "pwlhqEFtxldo"
      },
      "source": [
        "x = [[1,2],[3,4],[5,6],[7,8]]\n",
        "y = [[3],[7],[11],[15]]"
      ],
      "execution_count": 2,
      "outputs": []
    },
    {
      "cell_type": "code",
      "metadata": {
        "ExecuteTime": {
          "end_time": "2020-09-25T19:38:09.322276Z",
          "start_time": "2020-09-25T19:38:09.319108Z"
        },
        "id": "Xvn8m82PxqGL"
      },
      "source": [
        "X = torch.tensor(x).float()\n",
        "Y = torch.tensor(y).float()"
      ],
      "execution_count": 3,
      "outputs": []
    },
    {
      "cell_type": "code",
      "metadata": {
        "ExecuteTime": {
          "end_time": "2020-09-25T19:38:10.908620Z",
          "start_time": "2020-09-25T19:38:09.324375Z"
        },
        "id": "suZ9rXQqxrUi"
      },
      "source": [
        "device = 'cuda' if torch.cuda.is_available() else 'cpu'\n",
        "X = X.to(device)\n",
        "Y = Y.to(device)"
      ],
      "execution_count": 4,
      "outputs": []
    },
    {
      "cell_type": "markdown",
      "metadata": {
        "id": "dHOAS1Lexbex"
      },
      "source": [
        "- Dataset을 상속받은 MyDataset에 data에 대한 정보를 저장\n",
        "  - `__init__`에 input & output 쌍을 tensor type으로 변환하여 저장\n",
        "  - `__len__`에 dataset의 length, `__getitem__`에 특정 row를 추출하기 위한 함수를 정의\n",
        "- DataLoader를 사용해 data point들을 batch size 만큼 batch로 묶음"
      ]
    },
    {
      "cell_type": "code",
      "metadata": {
        "ExecuteTime": {
          "end_time": "2020-09-25T19:38:10.913405Z",
          "start_time": "2020-09-25T19:38:10.909638Z"
        },
        "id": "GZwy83Zaxsrw",
        "colab": {
          "base_uri": "https://localhost:8080/"
        },
        "outputId": "514252a3-3dd9-4ed3-f218-820f0e81e159"
      },
      "source": [
        "class MyDataset(Dataset):\n",
        "    def __init__(self,x,y):\n",
        "        self.x = torch.tensor(x).float()\n",
        "        self.y = torch.tensor(y).float()\n",
        "    def __len__(self):\n",
        "        return len(self.x)\n",
        "    def __getitem__(self, ix):\n",
        "        return self.x[ix], self.y[ix]     #해당 인덱스 아이템 리턴\n",
        "ds = MyDataset(X, Y) # dataset instance 생성 , 이 인스턴스를 ds가 참조"
      ],
      "execution_count": 6,
      "outputs": [
        {
          "output_type": "stream",
          "name": "stderr",
          "text": [
            "<ipython-input-6-f864dabbc481>:3: UserWarning: To copy construct from a tensor, it is recommended to use sourceTensor.clone().detach() or sourceTensor.clone().detach().requires_grad_(True), rather than torch.tensor(sourceTensor).\n",
            "  self.x = torch.tensor(x).float()\n",
            "<ipython-input-6-f864dabbc481>:4: UserWarning: To copy construct from a tensor, it is recommended to use sourceTensor.clone().detach() or sourceTensor.clone().detach().requires_grad_(True), rather than torch.tensor(sourceTensor).\n",
            "  self.y = torch.tensor(y).float()\n"
          ]
        }
      ]
    },
    {
      "cell_type": "code",
      "metadata": {
        "ExecuteTime": {
          "end_time": "2020-09-25T19:38:10.917418Z",
          "start_time": "2020-09-25T19:38:10.915031Z"
        },
        "id": "K28I9mj-x1yB"
      },
      "source": [
        "dl = DataLoader(ds, batch_size=2, shuffle=True) # batch를 ds의 순서대로 구성할지, 섞어서 batch를 구성할지 shuffle argument를 통해 정의\n",
        "                                                # 학습데이터는 suffle = true 지정이 일반적, validation, test데이터는 shuffle x\n",
        "                                                # 데이터 순서 강아지 1~100, 고양이 101~200 -> 학습 bad -> suffle!\n",
        "                                                #"
      ],
      "execution_count": 11,
      "outputs": []
    },
    {
      "cell_type": "code",
      "metadata": {
        "ExecuteTime": {
          "end_time": "2020-09-25T19:38:10.922176Z",
          "start_time": "2020-09-25T19:38:10.918671Z"
        },
        "id": "i1uNDQLDx3bb"
      },
      "source": [
        "class MyNeuralNet(nn.Module):   #모델 정의 클래스\n",
        "    def __init__(self):\n",
        "        super().__init__()\n",
        "        self.input_to_hidden_layer = nn.Linear(2,8)\n",
        "        self.hidden_layer_activation = nn.ReLU()\n",
        "        self.hidden_to_output_layer = nn.Linear(8,1)\n",
        "    def forward(self, x):\n",
        "        x = self.input_to_hidden_layer(x)\n",
        "        x = self.hidden_layer_activation(x)\n",
        "        x = self.hidden_to_output_layer(x)\n",
        "        return x"
      ],
      "execution_count": 12,
      "outputs": []
    },
    {
      "cell_type": "code",
      "metadata": {
        "ExecuteTime": {
          "end_time": "2020-09-25T19:38:10.928421Z",
          "start_time": "2020-09-25T19:38:10.924741Z"
        },
        "id": "M5GAnaPmx5w5"
      },
      "source": [
        "mynet = MyNeuralNet().to(device)\n",
        "loss_func = nn.MSELoss()\n",
        "from torch.optim import SGD\n",
        "opt = SGD(mynet.parameters(), lr = 0.001)"
      ],
      "execution_count": 13,
      "outputs": []
    },
    {
      "cell_type": "code",
      "metadata": {
        "ExecuteTime": {
          "end_time": "2020-09-25T19:38:11.011394Z",
          "start_time": "2020-09-25T19:38:10.929771Z"
        },
        "id": "_da8xi-9x7oJ",
        "colab": {
          "base_uri": "https://localhost:8080/"
        },
        "outputId": "3aa068ef-84d9-41ba-b413-9333fec4db07"
      },
      "source": [
        "import time\n",
        "loss_history = []\n",
        "start = time.time()\n",
        "for _ in range(50): # epoch\n",
        "    for data in dl: # step (batch)                        # mini-batch 하나씩 받아옴\n",
        "        x, y = data                                       # 샘플 두개 포함(x,y)\n",
        "        opt.zero_grad()                                   #\n",
        "        loss_value = loss_func(mynet(x),y)                #\n",
        "        loss_value.backward()\n",
        "        opt.step()\n",
        "        loss_history.append(loss_value)\n",
        "end = time.time()\n",
        "print(end - start)"
      ],
      "execution_count": 28,
      "outputs": [
        {
          "output_type": "stream",
          "name": "stdout",
          "text": [
            "0.12329459190368652\n"
          ]
        }
      ]
    },
    {
      "cell_type": "markdown",
      "metadata": {
        "id": "A_WCoiCDzi-h"
      },
      "source": [
        "- Validation 용 input 정의 후 추정값 확인"
      ]
    },
    {
      "cell_type": "code",
      "metadata": {
        "ExecuteTime": {
          "end_time": "2020-09-25T19:38:11.014114Z",
          "start_time": "2020-09-25T19:38:11.012332Z"
        },
        "id": "ou1Hdxb4x9TP"
      },
      "source": [
        "val_x = [[10,11]]"
      ],
      "execution_count": 24,
      "outputs": []
    },
    {
      "cell_type": "code",
      "metadata": {
        "ExecuteTime": {
          "end_time": "2020-09-25T19:38:11.017321Z",
          "start_time": "2020-09-25T19:38:11.015262Z"
        },
        "id": "OtA5Oswrx_Sl"
      },
      "source": [
        "val_x = torch.tensor(val_x).float().to(device)"
      ],
      "execution_count": 25,
      "outputs": []
    },
    {
      "cell_type": "code",
      "metadata": {
        "ExecuteTime": {
          "end_time": "2020-09-25T19:38:11.025594Z",
          "start_time": "2020-09-25T19:38:11.018406Z"
        },
        "id": "UysdiiFSyAf1",
        "colab": {
          "base_uri": "https://localhost:8080/"
        },
        "outputId": "b4c06a12-cd6e-4c9f-e529-c46bec064fc2"
      },
      "source": [
        "mynet(val_x)"
      ],
      "execution_count": 29,
      "outputs": [
        {
          "output_type": "execute_result",
          "data": {
            "text/plain": [
              "tensor([[20.7914]], device='cuda:0', grad_fn=<AddmmBackward0>)"
            ]
          },
          "metadata": {},
          "execution_count": 29
        }
      ]
    }
  ]
}