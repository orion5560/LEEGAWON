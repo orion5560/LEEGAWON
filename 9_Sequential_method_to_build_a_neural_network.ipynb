{
  "nbformat": 4,
  "nbformat_minor": 0,
  "metadata": {
    "colab": {
      "provenance": [],
      "include_colab_link": true
    },
    "kernelspec": {
      "display_name": "Python 3",
      "language": "python",
      "name": "python3"
    },
    "language_info": {
      "codemirror_mode": {
        "name": "ipython",
        "version": 3
      },
      "file_extension": ".py",
      "mimetype": "text/x-python",
      "name": "python",
      "nbconvert_exporter": "python",
      "pygments_lexer": "ipython3",
      "version": "3.7.6"
    },
    "accelerator": "GPU"
  },
  "cells": [
    {
      "cell_type": "markdown",
      "metadata": {
        "id": "view-in-github",
        "colab_type": "text"
      },
      "source": [
        "<a href=\"https://colab.research.google.com/github/wonmadeit/LEEGAWON/blob/main/9_Sequential_method_to_build_a_neural_network.ipynb\" target=\"_parent\"><img src=\"https://colab.research.google.com/assets/colab-badge.svg\" alt=\"Open In Colab\"/></a>"
      ]
    },
    {
      "cell_type": "markdown",
      "metadata": {
        "id": "W95yWlse31yq"
      },
      "source": [
        "- Sequential class를 활용한 간편한 신경망 정의"
      ]
    },
    {
      "cell_type": "code",
      "metadata": {
        "ExecuteTime": {
          "end_time": "2020-09-25T19:49:17.305235Z",
          "start_time": "2020-09-25T19:49:17.302498Z"
        },
        "id": "D5_lUQ_JzxNQ"
      },
      "source": [
        "x = [[1,2],[3,4],[5,6],[7,8]]\n",
        "y = [[3],[7],[11],[15]]"
      ],
      "execution_count": 1,
      "outputs": []
    },
    {
      "cell_type": "code",
      "metadata": {
        "ExecuteTime": {
          "end_time": "2020-09-25T19:49:17.611616Z",
          "start_time": "2020-09-25T19:49:17.306365Z"
        },
        "id": "TG0fNwONz6yn"
      },
      "source": [
        "import torch\n",
        "import torch.nn as nn\n",
        "import numpy as np\n",
        "from torch.utils.data import Dataset, DataLoader\n",
        "device = 'cuda' if torch.cuda.is_available() else 'cpu'"
      ],
      "execution_count": null,
      "outputs": []
    },
    {
      "cell_type": "code",
      "metadata": {
        "ExecuteTime": {
          "end_time": "2020-09-25T19:49:17.616192Z",
          "start_time": "2020-09-25T19:49:17.613054Z"
        },
        "id": "f4-xTYoCz8U9"
      },
      "source": [
        "class MyDataset(Dataset):\n",
        "    def __init__(self, x, y):\n",
        "        self.x = torch.tensor(x).float().to(device)\n",
        "        self.y = torch.tensor(y).float().to(device)\n",
        "    def __getitem__(self, ix):\n",
        "        return self.x[ix], self.y[ix]\n",
        "    def __len__(self):\n",
        "        return len(self.x)"
      ],
      "execution_count": null,
      "outputs": []
    },
    {
      "cell_type": "code",
      "metadata": {
        "ExecuteTime": {
          "end_time": "2020-09-25T19:49:19.209881Z",
          "start_time": "2020-09-25T19:49:17.617151Z"
        },
        "id": "WeBe83XQz9we"
      },
      "source": [
        "ds = MyDataset(x, y)\n",
        "dl = DataLoader(ds, batch_size=2, shuffle=True)"
      ],
      "execution_count": null,
      "outputs": []
    },
    {
      "cell_type": "markdown",
      "metadata": {
        "id": "jsK6B-nA4L_2"
      },
      "source": [
        "- `nn` 패키지의 `Sequential` method를 사용하여 신경망 모형 정의"
      ]
    },
    {
      "cell_type": "code",
      "metadata": {
        "ExecuteTime": {
          "end_time": "2020-09-25T19:49:19.213866Z",
          "start_time": "2020-09-25T19:49:19.210841Z"
        },
        "id": "Vcg57P86z_oF"
      },
      "source": [
        "model = nn.Sequential(\n",
        "    nn.Linear(2, 8),\n",
        "    nn.ReLU(),\n",
        "    nn.Linear(8, 1)\n",
        ").to(device)"
      ],
      "execution_count": null,
      "outputs": []
    },
    {
      "cell_type": "markdown",
      "metadata": {
        "id": "lx87G1Sy4hDA"
      },
      "source": [
        "- torch_summary를 설치하여, 모형을 요약하는 함수 `summary`를 사용하여 정의한 모형 확인"
      ]
    },
    {
      "cell_type": "code",
      "metadata": {
        "ExecuteTime": {
          "end_time": "2020-09-25T19:49:21.005946Z",
          "start_time": "2020-09-25T19:49:19.215403Z"
        },
        "id": "7FGa-UWK0BIX",
        "colab": {
          "base_uri": "https://localhost:8080/"
        },
        "outputId": "2712c036-cc08-4bbc-e216-92fc26272b94"
      },
      "source": [
        "!pip install torch_summary\n",
        "from torchsummary import summary"
      ],
      "execution_count": null,
      "outputs": [
        {
          "output_type": "stream",
          "name": "stdout",
          "text": [
            "Looking in indexes: https://pypi.org/simple, https://us-python.pkg.dev/colab-wheels/public/simple/\n",
            "Collecting torch_summary\n",
            "  Downloading torch_summary-1.4.5-py3-none-any.whl (16 kB)\n",
            "Installing collected packages: torch-summary\n",
            "Successfully installed torch-summary-1.4.5\n"
          ]
        }
      ]
    },
    {
      "cell_type": "markdown",
      "metadata": {
        "id": "flsY3EqS40SR"
      },
      "source": [
        "- 출력 결과 해석\n",
        "  - `Output Shape`의 `-1`의미 : 정해진 숫자가 아닌, batch size 만큼 구성될 수 있음을 의미\n",
        "  - `Output Shape`의 `8`의미 : 해당 레이어를 통과한 Output은 차원의 크기가 `8`임\n",
        "  - `Param #` : parameter 개수 (24= 2x8weights+8bias    9 = 8wiehgts + 1bias)\n",
        "  - `Total mult-adds` : operation 개수\n",
        "  - `Trainable params` : 학습 가능한 parameter 수\n"
      ]
    },
    {
      "cell_type": "code",
      "metadata": {
        "ExecuteTime": {
          "end_time": "2020-09-25T19:49:21.040105Z",
          "start_time": "2020-09-25T19:49:21.011241Z"
        },
        "id": "UVZlHyXh0Fyd",
        "colab": {
          "base_uri": "https://localhost:8080/"
        },
        "outputId": "4300e3ad-9fe6-46be-bc28-bc09ca49b97b"
      },
      "source": [
        "summary(model, torch.zeros(1,2));   #torch.zeros(1,2)= 예시 input"
      ],
      "execution_count": null,
      "outputs": [
        {
          "output_type": "stream",
          "name": "stdout",
          "text": [
            "==========================================================================================\n",
            "Layer (type:depth-idx)                   Output Shape              Param #\n",
            "==========================================================================================\n",
            "├─Linear: 1-1                            [-1, 8]                   24\n",
            "├─ReLU: 1-2                              [-1, 8]                   --\n",
            "├─Linear: 1-3                            [-1, 1]                   9\n",
            "==========================================================================================\n",
            "Total params: 33\n",
            "Trainable params: 33\n",
            "Non-trainable params: 0\n",
            "Total mult-adds (M): 0.00\n",
            "==========================================================================================\n",
            "Input size (MB): 0.00\n",
            "Forward/backward pass size (MB): 0.00\n",
            "Params size (MB): 0.00\n",
            "Estimated Total Size (MB): 0.00\n",
            "==========================================================================================\n"
          ]
        }
      ]
    },
    {
      "cell_type": "code",
      "metadata": {
        "ExecuteTime": {
          "end_time": "2020-09-25T19:49:21.127594Z",
          "start_time": "2020-09-25T19:49:21.044743Z"
        },
        "id": "NDHfUDbW0Lh_",
        "colab": {
          "base_uri": "https://localhost:8080/"
        },
        "outputId": "e11f0956-eafa-4f1b-8881-2d2aaaec1a22"
      },
      "source": [
        "loss_func = nn.MSELoss()\n",
        "from torch.optim import SGD\n",
        "opt = SGD(model.parameters(), lr = 0.001)\n",
        "import time\n",
        "loss_history = []\n",
        "start = time.time()\n",
        "for _ in range(50):\n",
        "    for ix, iy in dl:\n",
        "        opt.zero_grad()\n",
        "        loss_value = loss_func(model(ix),iy)\n",
        "        loss_value.backward()\n",
        "        opt.step()\n",
        "        loss_history.append(loss_value)\n",
        "end = time.time()\n",
        "print(end - start)"
      ],
      "execution_count": null,
      "outputs": [
        {
          "output_type": "stream",
          "name": "stdout",
          "text": [
            "0.17645740509033203\n"
          ]
        }
      ]
    },
    {
      "cell_type": "code",
      "metadata": {
        "ExecuteTime": {
          "end_time": "2020-09-25T19:49:21.130860Z",
          "start_time": "2020-09-25T19:49:21.128656Z"
        },
        "id": "-Y-j0JeW0WKz"
      },
      "source": [
        "val = [[8,9],[10,11],[1.5,2.5]]\n",
        "val = torch.tensor(val).float()"
      ],
      "execution_count": null,
      "outputs": []
    },
    {
      "cell_type": "code",
      "metadata": {
        "ExecuteTime": {
          "end_time": "2020-09-25T19:49:21.141201Z",
          "start_time": "2020-09-25T19:49:21.132039Z"
        },
        "id": "KdNMIy4u0Xkt",
        "colab": {
          "base_uri": "https://localhost:8080/"
        },
        "outputId": "afc9d38a-aac5-4301-8764-a01105b1cb47"
      },
      "source": [
        "model(val.to(device))"
      ],
      "execution_count": null,
      "outputs": [
        {
          "output_type": "execute_result",
          "data": {
            "text/plain": [
              "tensor([[16.8142],\n",
              "        [20.6777],\n",
              "        [ 4.2581]], device='cuda:0', grad_fn=<AddmmBackward0>)"
            ]
          },
          "metadata": {},
          "execution_count": 10
        }
      ]
    },
    {
      "cell_type": "code",
      "metadata": {
        "ExecuteTime": {
          "end_time": "2020-09-25T19:49:21.145210Z",
          "start_time": "2020-09-25T19:49:21.142226Z"
        },
        "id": "0fgQGXEX0YK_",
        "colab": {
          "base_uri": "https://localhost:8080/"
        },
        "outputId": "d1f83d4e-2297-4153-f394-9b6f91a2ab4f"
      },
      "source": [
        "val.sum(-1)"
      ],
      "execution_count": null,
      "outputs": [
        {
          "output_type": "execute_result",
          "data": {
            "text/plain": [
              "tensor([17., 21.,  4.])"
            ]
          },
          "metadata": {},
          "execution_count": 11
        }
      ]
    },
    {
      "cell_type": "code",
      "metadata": {
        "id": "5HF-DDp50YLB"
      },
      "source": [],
      "execution_count": null,
      "outputs": []
    }
  ]
}